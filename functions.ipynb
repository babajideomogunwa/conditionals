{
 "cells": [
  {
   "cell_type": "code",
   "execution_count": 3,
   "metadata": {},
   "outputs": [
    {
     "name": "stdout",
     "output_type": "stream",
     "text": [
      "Feeding the pig\n"
     ]
    }
   ],
   "source": [
    "def animal_feed(type_of_feed):\n",
    "    \"\"\" \n",
    "    This function is to indicate the type of food to feed different animals\n",
    "    \"\"\"\n",
    "\n",
    "    if type_of_feed == 'oats':\n",
    "        print(\"Feeding the horse\")\n",
    "    elif type_of_feed == 'hay':\n",
    "        print(\"Feeding the bull\")\n",
    "    else:\n",
    "        # pigs eat anything\n",
    "        print(\"Feeding the pig\")\n",
    "\n",
    "animal_feed('fish')"
   ]
  },
  {
   "cell_type": "code",
   "execution_count": 4,
   "metadata": {},
   "outputs": [],
   "source": [
    "def hello(target):\n",
    "    print(\"Hello\", target)"
   ]
  },
  {
   "cell_type": "code",
   "execution_count": 5,
   "metadata": {},
   "outputs": [
    {
     "name": "stdout",
     "output_type": "stream",
     "text": [
      "Hello Jide\n"
     ]
    }
   ],
   "source": [
    "hello(\"Jide\")"
   ]
  },
  {
   "cell_type": "code",
   "execution_count": 10,
   "metadata": {},
   "outputs": [],
   "source": [
    "def squares(figs):\n",
    "    \"\"\"\n",
    "    This function returns the square of any number\n",
    "    usage: squares(2) will return 'The square of 2 is 4'.\n",
    "    \"\"\"\n",
    "    print(f\"The square of {figs} is\", figs*figs)"
   ]
  },
  {
   "cell_type": "code",
   "execution_count": 9,
   "metadata": {},
   "outputs": [
    {
     "name": "stdout",
     "output_type": "stream",
     "text": [
      "The square of 48.9 is 2391.21\n",
      "The square of 7.2 is 51.84\n",
      "The square of 49.3 is 2430.49\n",
      "The square of 90 is 8100\n"
     ]
    }
   ],
   "source": [
    "squares(48.9)\n",
    "squares(7.2)\n",
    "squares(49.3)\n",
    "squares(90)"
   ]
  },
  {
   "cell_type": "code",
   "execution_count": 11,
   "metadata": {},
   "outputs": [
    {
     "name": "stdout",
     "output_type": "stream",
     "text": [
      "The sum of 2 and 4 is 6\n"
     ]
    }
   ],
   "source": [
    "def sumed(x, y):\n",
    "    \"\"\" \n",
    "    This function takes two arguments and add them together. It will return their sum.\n",
    "    \"\"\"\n",
    "    result = x + y\n",
    "    print(f\"The sum of {x} and {y} is {result}\")\n",
    "\n",
    "sumed(2, 4)"
   ]
  },
  {
   "cell_type": "code",
   "execution_count": 26,
   "metadata": {},
   "outputs": [
    {
     "name": "stdout",
     "output_type": "stream",
     "text": [
      "This is a negative number and unacceptable! try again!!\n",
      "Always make sure the value of x is greater than y or you keep getting error. And then you try again and again!\n"
     ]
    }
   ],
   "source": [
    "def subtract(x, y):\n",
    "    \"\"\" \n",
    "    This function takes two arguments and subtract one from the other. It will return the difference between the two. \n",
    "    \"\"\"\n",
    "    result = x - y\n",
    "    try:\n",
    "        if x >= y:\n",
    "            print(f\"The subtraction of {y} from {x} is {result}\")\n",
    "        else:\n",
    "            print(\"This is a negative number and unacceptable! try again!!\")\n",
    "            raise ValueError\n",
    "    except:\n",
    "        print(\"Always make sure the value of x is greater than y or you keep getting error. And then you try again and again!\")\n",
    "            \n",
    "subtract(10, 11)\n",
    "    "
   ]
  },
  {
   "cell_type": "code",
   "execution_count": 27,
   "metadata": {},
   "outputs": [
    {
     "data": {
      "text/plain": [
       "11"
      ]
     },
     "execution_count": 27,
     "metadata": {},
     "output_type": "execute_result"
    }
   ],
   "source": [
    "def my_sum(x, y):\n",
    "    return x + y\n",
    "my_sum(4, 7)"
   ]
  },
  {
   "cell_type": "code",
   "execution_count": 28,
   "metadata": {},
   "outputs": [
    {
     "name": "stdout",
     "output_type": "stream",
     "text": [
      "Hello Jide\n"
     ]
    }
   ],
   "source": [
    "def user_hello(name):\n",
    "    \"\"\" \n",
    "    This function injects an hello infront of the provided name.\n",
    "    \"\"\"\n",
    "    name  = str(input(\"provide a name please: \"))\n",
    "    print(\"Hello\", name)\n",
    "user_hello('Ask')"
   ]
  },
  {
   "cell_type": "code",
   "execution_count": 29,
   "metadata": {},
   "outputs": [
    {
     "name": "stdout",
     "output_type": "stream",
     "text": [
      "Hello Jide\n"
     ]
    }
   ],
   "source": [
    "def ask_for_name():\n",
    "    name = input(\"what is your name?: \")\n",
    "    return print(f\"Hello {name}\")\n",
    "ask_for_name()"
   ]
  },
  {
   "cell_type": "code",
   "execution_count": 30,
   "metadata": {},
   "outputs": [],
   "source": [
    "def smallest(a, b):\n",
    "    if a < b:\n",
    "        return a\n",
    "    return b"
   ]
  },
  {
   "cell_type": "code",
   "execution_count": 31,
   "metadata": {},
   "outputs": [
    {
     "name": "stdout",
     "output_type": "stream",
     "text": [
      "3\n",
      "45\n"
     ]
    }
   ],
   "source": [
    "print(smallest(7, 3))\n",
    "print(smallest(45, 67))"
   ]
  },
  {
   "cell_type": "code",
   "execution_count": 33,
   "metadata": {},
   "outputs": [
    {
     "name": "stdout",
     "output_type": "stream",
     "text": [
      "Hi\n"
     ]
    }
   ],
   "source": [
    "def hello():\n",
    "    print(\"Hi\")\n",
    "\n",
    "if __name__ == \"__main__\":\n",
    "    hello()"
   ]
  },
  {
   "cell_type": "code",
   "execution_count": 39,
   "metadata": {},
   "outputs": [
    {
     "name": "stdout",
     "output_type": "stream",
     "text": [
      "Hello Kola\n"
     ]
    }
   ],
   "source": [
    "def hello(name):\n",
    "    name = input(\"What is your name? \\n\")\n",
    "    print(f\"Hello \" + str(name))\n",
    "\n",
    "if __name__ == \"__main__\":\n",
    "    hello(\"Jendo\")"
   ]
  },
  {
   "cell_type": "code",
   "execution_count": 47,
   "metadata": {},
   "outputs": [
    {
     "name": "stdout",
     "output_type": "stream",
     "text": [
      "Hello Jack, you are 77 years old.\n"
     ]
    }
   ],
   "source": [
    "try:\n",
    "    def clsd(name: str, age: int):\n",
    "        \"\"\" \n",
    "        This function inputs the name and age of a person.\n",
    "        \"\"\"\n",
    "        name = input(\"What is your name?: \")\n",
    "        age = int(input(\"How old are you?: \"))\n",
    "        print(f\"Hello {name}, you are {age} years old.\")\n",
    "\n",
    "    if __name__ == \"__main__\":\n",
    "        clsd(\"Jide\", 7)\n",
    "except:\n",
    "    print(\"Error! Check, input strings and integers where necessary and revert accordingly!\")"
   ]
  },
  {
   "cell_type": "code",
   "execution_count": 5,
   "metadata": {},
   "outputs": [
    {
     "name": "stdout",
     "output_type": "stream",
     "text": [
      "Hello jide, your BMI is 17.5!\n"
     ]
    }
   ],
   "source": [
    "try:\n",
    "    def bmi_cal(name, height, weight):\n",
    "        \"\"\" \n",
    "        This function calculates the BMI of each person when their names, height and weight are provided.\n",
    "        \"\"\"\n",
    "        name = input(\"What is your name?: \")\n",
    "        height = float(input(\"What height are you in m?: \"))\n",
    "        weight = int(input(\"What is your weight in kg?: \"))\n",
    "        bmi = weight/(height*height)\n",
    "        print(f\"Hello {name}, your BMI is {bmi}!\")\n",
    "    if __name__ == \"__main__\":\n",
    "        bmi_cal(\"Sunday\", 2.3, 56)\n",
    "except:\n",
    "    print(\"Error! correctly input object types. That is, integers and strings where appropriate. Try again!\")"
   ]
  },
  {
   "cell_type": "markdown",
   "metadata": {},
   "source": [
    "### functional programming\n",
    " - map\n",
    " - reduce\n",
    " - filter"
   ]
  },
  {
   "cell_type": "code",
   "execution_count": 9,
   "metadata": {},
   "outputs": [
    {
     "name": "stdout",
     "output_type": "stream",
     "text": [
      "23\n",
      "40\n",
      "35\n",
      "60\n",
      "-10\n"
     ]
    }
   ],
   "source": [
    "#### map\n",
    "#It performs an operation on each item in a series.\n",
    "#e.g: converting a list of characters into integers using map function.\n",
    "\n",
    "list_str = [\"23\", \"40\", \"35\", \"60\", \"-10\"]\n",
    "for item in list_str:\n",
    "    print(int(item))\n",
    "    \n"
   ]
  },
  {
   "cell_type": "code",
   "execution_count": 10,
   "metadata": {},
   "outputs": [
    {
     "name": "stdout",
     "output_type": "stream",
     "text": [
      "[23, 40, 35, 60, -10]\n"
     ]
    }
   ],
   "source": [
    "print([int(item) for item in list_str])"
   ]
  },
  {
   "cell_type": "code",
   "execution_count": 13,
   "metadata": {},
   "outputs": [
    {
     "name": "stdout",
     "output_type": "stream",
     "text": [
      "23\n",
      "40\n",
      "35\n",
      "60\n",
      "-10\n"
     ]
    }
   ],
   "source": [
    "# map\n",
    "# var = map(function, series)\n",
    "\n",
    "integers = map(lambda x: int(x), list_str)\n",
    "\n",
    "for i in integers:\n",
    "    print(i)"
   ]
  },
  {
   "cell_type": "code",
   "execution_count": 16,
   "metadata": {},
   "outputs": [],
   "source": [
    "def capitalise(my_string: str):\n",
    "    first = my_string[0]\n",
    "    first = first.upper()\n",
    "    return first + my_string[1:]"
   ]
  },
  {
   "cell_type": "code",
   "execution_count": 17,
   "metadata": {},
   "outputs": [
    {
     "name": "stdout",
     "output_type": "stream",
     "text": [
      "['Stressful', 'Enjoyable', 'Nice', 'Excellent', 'Tiring']\n"
     ]
    }
   ],
   "source": [
    "exam_mode = [\"stressful\", \"enjoyable\", \"nice\", \"excellent\", \"tiring\"]\n",
    "\n",
    "capital = map(capitalise, exam_mode)\n",
    "capiital_list = list(capital)\n",
    "print(capiital_list)\n"
   ]
  },
  {
   "cell_type": "code",
   "execution_count": 1,
   "metadata": {},
   "outputs": [],
   "source": [
    "def squared(x: int):\n",
    "    x = x*x\n",
    "    return x"
   ]
  },
  {
   "cell_type": "code",
   "execution_count": 2,
   "metadata": {},
   "outputs": [
    {
     "name": "stdout",
     "output_type": "stream",
     "text": [
      "[4, 16, 25, 36, 49, 64, 6561, 49]\n"
     ]
    }
   ],
   "source": [
    "age = [2,4,5,6,7,8,81,7]\n",
    "\n",
    "sq_age = map(squared, age)\n",
    "sq_age_list = list(sq_age)\n",
    "print(sq_age_list)"
   ]
  },
  {
   "cell_type": "code",
   "execution_count": 4,
   "metadata": {},
   "outputs": [
    {
     "name": "stdout",
     "output_type": "stream",
     "text": [
      "2\n",
      "4\n",
      "6\n",
      "8\n",
      "10\n",
      "20\n"
     ]
    }
   ],
   "source": [
    "# Filter\n",
    "# It returns the value(s) if the criterion is true\n",
    "\n",
    "# for example, to return even number from a list\n",
    "\n",
    "numbers = [1, 2, 4, 6, 8, 9, 10, 20]\n",
    "\n",
    "even = filter(lambda number: number % 2 == 0, numbers)\n",
    "\n",
    "for item in even:\n",
    "    print(item)"
   ]
  },
  {
   "cell_type": "code",
   "execution_count": 3,
   "metadata": {},
   "outputs": [
    {
     "name": "stdout",
     "output_type": "stream",
     "text": [
      "24\n",
      "45\n",
      "50\n",
      "22\n",
      "45\n",
      "65\n",
      "34\n",
      "22\n",
      "45\n",
      "65\n",
      "70\n",
      "34\n",
      "55\n"
     ]
    }
   ],
   "source": [
    "weights = [24, 45, 50, 19, 22, 45, 65, 11, 34, 22, 45, 65, 70, 20, 11, 2, 34, 5, 6, 7, 55, 20]\n",
    "twenty_plus = filter(lambda weight: weight > 20, weights)\n",
    "\n",
    "for item in twenty_plus:\n",
    "    print(item)"
   ]
  }
 ],
 "metadata": {
  "kernelspec": {
   "display_name": "base",
   "language": "python",
   "name": "python3"
  },
  "language_info": {
   "codemirror_mode": {
    "name": "ipython",
    "version": 3
   },
   "file_extension": ".py",
   "mimetype": "text/x-python",
   "name": "python",
   "nbconvert_exporter": "python",
   "pygments_lexer": "ipython3",
   "version": "3.12.3"
  }
 },
 "nbformat": 4,
 "nbformat_minor": 2
}
