{
 "cells": [
  {
   "cell_type": "code",
   "execution_count": 39,
   "metadata": {},
   "outputs": [],
   "source": [
    "import csv"
   ]
  },
  {
   "cell_type": "code",
   "execution_count": 17,
   "metadata": {},
   "outputs": [
    {
     "name": "stdout",
     "output_type": "stream",
     "text": [
      "['Distance (km)', 'Time (minutes)']\n",
      "['3.5', '42.7']\n",
      "['2.1', '23.31']\n",
      "['3.2', '36.8']\n",
      "['5.1', '53.55']\n"
     ]
    }
   ],
   "source": [
    "# with open(filename, 'r') as fh:\n",
    "#    reader = csv.reader(fh, delimiter='\\t', quotechar='\"')\n",
    "\n",
    "with open('walks.csv', 'r') as fh:\n",
    "    reader = csv.reader(fh, delimiter=',')\n",
    "    for row in reader:\n",
    "        print(row)\n"
   ]
  },
  {
   "cell_type": "code",
   "execution_count": 15,
   "metadata": {},
   "outputs": [
    {
     "name": "stdout",
     "output_type": "stream",
     "text": [
      "['Distance (km),Time (minutes)']\n",
      "['3.5,42.7']\n",
      "['2.1,23.31']\n",
      "['3.2,36.8']\n",
      "['5.1,53.55']\n"
     ]
    }
   ],
   "source": [
    "with open('walks.csv', 'r') as fh:\n",
    "    reader = csv.reader(fh, delimiter='\\t')\n",
    "    for row in reader:\n",
    "        print(row)"
   ]
  },
  {
   "cell_type": "code",
   "execution_count": 12,
   "metadata": {},
   "outputs": [
    {
     "name": "stdout",
     "output_type": "stream",
     "text": [
      "['1', '0', '5', '50', '5']\n",
      "['2', '8', '3', '70', '10']\n",
      "['3', '10', '6', '75', '14']\n",
      "['4', '12', '9', '80', '17']\n",
      "['5', '0', '13', '90', '25']\n",
      "['6', '16', '13', '90', '30']\n"
     ]
    }
   ],
   "source": [
    "with open('workout.txt', 'r') as fh:\n",
    "    lines = csv.reader(fh, delimiter='\\t')\n",
    "    header = next(lines) # to save the header and hide the header from the output\n",
    "    #print(header) #to add back the header on the output\n",
    "    for item in lines:\n",
    "        print(item)\n"
   ]
  },
  {
   "cell_type": "code",
   "execution_count": 20,
   "metadata": {},
   "outputs": [
    {
     "name": "stdout",
     "output_type": "stream",
     "text": [
      "[3.5, 42.7]\n",
      "[2.1, 23.31]\n",
      "[3.2, 36.8]\n",
      "[5.1, 53.55]\n"
     ]
    }
   ],
   "source": [
    "# To convert the values into floats so that they can be used for calculations\n",
    "\n",
    "with open('walks.csv', 'r') as fh:\n",
    "    lines = csv.reader(fh, delimiter=',')\n",
    "    header = next(lines) # to save the header and hide the header from the output\n",
    "    #print(header) #to add back the header on the output\n",
    "    for item in lines:\n",
    "        float_item = [float(item[0]), float(item[1])]\n",
    "        print(float_item)"
   ]
  },
  {
   "cell_type": "code",
   "execution_count": 33,
   "metadata": {},
   "outputs": [
    {
     "name": "stdout",
     "output_type": "stream",
     "text": [
      "['3.5', '42.7']\n",
      "['2.1', '23.31']\n",
      "['3.2', '36.8']\n",
      "['5.1', '53.55']\n"
     ]
    }
   ],
   "source": [
    "# To convert the values into integers so that they can be used for calculations\n",
    "\n",
    "with open('walks.csv', 'r') as fh:\n",
    "    lines = csv.reader(fh, delimiter=',')\n",
    "    header = next(lines) # to save the header and hide the header from the output\n",
    "    #print(header) #to add back the header on the output\n",
    "    for item in lines:\n",
    "        print(item)"
   ]
  },
  {
   "cell_type": "code",
   "execution_count": 35,
   "metadata": {},
   "outputs": [
    {
     "name": "stdout",
     "output_type": "stream",
     "text": [
      "['workout number', 'squats', 'lunges', 'jumping jacks', 'burpees']\n",
      "[1, 0, 5, 50, 5]\n",
      "[2, 8, 3, 70, 10]\n",
      "[3, 10, 6, 75, 14]\n",
      "[4, 12, 9, 80, 17]\n",
      "[5, 0, 13, 90, 25]\n",
      "[6, 16, 13, 90, 30]\n"
     ]
    }
   ],
   "source": [
    "# To convert the values into integers so that they can be used for calculations\n",
    "\n",
    "with open('workout.txt', 'r') as fh:\n",
    "    reader = csv.reader(fh, delimiter='\\t')\n",
    "    header = next(reader) # to save the header and hide the header from the output\n",
    "    print(header) #to add back the header on the output\n",
    "    for item in reader:\n",
    "        item = [int(item[0]), int(item[1]), int(item[2]), int(item[3]), int(item[4])]\n",
    "        print(item)"
   ]
  },
  {
   "cell_type": "code",
   "execution_count": 43,
   "metadata": {},
   "outputs": [
    {
     "name": "stdout",
     "output_type": "stream",
     "text": [
      "Average distance walked (km): 3.5\n",
      "Average speed (km/h): 5.333844973138911\n"
     ]
    }
   ],
   "source": [
    "# let's find the average distance for all walks.csv\n",
    "\n",
    "with open('walks.csv', 'r') as fh:\n",
    "    reader = csv.reader(fh, delimiter = ',')\n",
    "    header = next(reader)\n",
    "    # Empty list for storing all distances\n",
    "    walks = []\n",
    "    # Empty list for storing the walking time\n",
    "    time = []\n",
    "\n",
    "    for row in reader:\n",
    "        #distance is in the first column\n",
    "        dist = row[0]\n",
    "        #time taken is in second column\n",
    "        time_taken = row[1]\n",
    "        #convert to float so it can do math\n",
    "        dist = float(dist)\n",
    "        time_taken = float(time_taken)\n",
    "        #convert time from minutes to hours\n",
    "        time_per_hr = time_taken/60\n",
    "        #Append to the list\n",
    "        walks.append(dist)\n",
    "        time.append(time_per_hr)\n",
    "     \n",
    "\n",
    "    #Use list aggregation methods to get average distance\n",
    "    ave_dist = sum(walks) / len(walks)\n",
    "    print(\"Average distance walked (km): {0:.1f}\".format(ave_dist))\n",
    "\n",
    "    ave_speed = sum(walks)/sum(time)\n",
    "    print(f\"Average speed (km/h): {ave_speed}\")\n",
    "\n"
   ]
  }
 ],
 "metadata": {
  "kernelspec": {
   "display_name": "base",
   "language": "python",
   "name": "python3"
  },
  "language_info": {
   "codemirror_mode": {
    "name": "ipython",
    "version": 3
   },
   "file_extension": ".py",
   "mimetype": "text/x-python",
   "name": "python",
   "nbconvert_exporter": "python",
   "pygments_lexer": "ipython3",
   "version": "3.12.3"
  }
 },
 "nbformat": 4,
 "nbformat_minor": 2
}
