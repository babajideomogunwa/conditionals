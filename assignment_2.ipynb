{
 "cells": [
  {
   "cell_type": "code",
   "execution_count": 1,
   "metadata": {},
   "outputs": [
    {
     "name": "stdout",
     "output_type": "stream",
     "text": [
      "Buzz\n"
     ]
    }
   ],
   "source": [
    "try:\n",
    "    num_1 = int(input(\"Input any integer: \"))\n",
    "    if  num_1 % 3 == 0 and num_1 % 5 == 0:\n",
    "        print(\"FizzBuzz\")\n",
    "    elif num_1 % 3 == 0:\n",
    "        print(\"Fizz\")\n",
    "    elif num_1 % 5 == 0:\n",
    "        print(\"Buzz\")\n",
    "    else:\n",
    "        print(\"Number is not divisible by both 3 and 5. Input another number\")\n",
    "\n",
    "except:\n",
    "    print(\"Error! Kindly input only integers\")"
   ]
  },
  {
   "cell_type": "code",
   "execution_count": null,
   "metadata": {},
   "outputs": [
    {
     "name": "stdout",
     "output_type": "stream",
     "text": [
      "Please tell me your name: Jide\n",
      "Jide, your total cost is  41.300000000000004\n",
      "Next, please!\n"
     ]
    }
   ],
   "source": [
    "try:\n",
    "    user_name = str(input(\"What is your name?: \"))\n",
    "    print(f\"Please tell me your name: {user_name}\")\n",
    "    if user_name != \"Jerry\":\n",
    "        no_of_portions = int(input(\"Number of portions: \"))\n",
    "        print(f\"{user_name}, your total cost is \",no_of_portions * 5.90)\n",
    "        print(\"Next, please!\")\n",
    "    else:\n",
    "        print(\"I cannot serve anyone called Jerry. Next please!\")\n",
    "\n",
    "except:\n",
    "    print(\"Error! Invalid response. Always provide an integer for the cost. Please try again.\")\n",
    "    "
   ]
  }
 ],
 "metadata": {
  "kernelspec": {
   "display_name": "base",
   "language": "python",
   "name": "python3"
  },
  "language_info": {
   "codemirror_mode": {
    "name": "ipython",
    "version": 3
   },
   "file_extension": ".py",
   "mimetype": "text/x-python",
   "name": "python",
   "nbconvert_exporter": "python",
   "pygments_lexer": "ipython3",
   "version": "3.12.3"
  }
 },
 "nbformat": 4,
 "nbformat_minor": 2
}
