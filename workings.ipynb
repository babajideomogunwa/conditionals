{
 "cells": [
  {
   "cell_type": "code",
   "execution_count": 1,
   "metadata": {},
   "outputs": [
    {
     "name": "stdout",
     "output_type": "stream",
     "text": [
      "31.41592653589793\n",
      "78.53981633974483\n"
     ]
    }
   ],
   "source": [
    "import math\n",
    "radius_of_a_circle = 5.0\n",
    "circumference = math.pi*2*radius_of_a_circle\n",
    "area_of_a_circle = math.pi*radius_of_a_circle**2\n",
    "print(circumference)\n",
    "print(area_of_a_circle)"
   ]
  },
  {
   "cell_type": "code",
   "execution_count": 2,
   "metadata": {},
   "outputs": [
    {
     "name": "stdout",
     "output_type": "stream",
     "text": [
      "-0.9524129804151563\n",
      "-0.9880316240928618\n",
      "1.6197751905438615\n"
     ]
    }
   ],
   "source": [
    "print(math.cos(60))\n",
    "print(math.sin(30))\n",
    "print(math.tan(45))"
   ]
  },
  {
   "cell_type": "code",
   "execution_count": 6,
   "metadata": {},
   "outputs": [
    {
     "name": "stdout",
     "output_type": "stream",
     "text": [
      "Happy wedding anniversary to 2 wonderful people with a beautiful smile.\n"
     ]
    }
   ],
   "source": [
    "def power_couple():\n",
    "\n",
    "    \"\"\" This function is just to wish people happy wedding anniversary.\n",
    "    If you see it anywhere, know it is a good thing. \"\"\"\n",
    "\n",
    "    a = 2\n",
    "    b = \"wonderful people\"\n",
    "    c = \"a beautiful smile.\"\n",
    "    print(f\"Happy wedding anniversary to {a} {b} with {c}\")\n",
    "power_couple()"
   ]
  },
  {
   "cell_type": "code",
   "execution_count": 10,
   "metadata": {},
   "outputs": [
    {
     "data": {
      "text/plain": [
       "'this is the real deal'"
      ]
     },
     "execution_count": 10,
     "metadata": {},
     "output_type": "execute_result"
    }
   ],
   "source": [
    "word = \"this is the real koko\"\n",
    "\n",
    "word_to_be_replaced = 'koko'\n",
    "word_replacement = 'deal'\n",
    "word.replace(word_to_be_replaced, word_replacement)"
   ]
  },
  {
   "cell_type": "code",
   "execution_count": 11,
   "metadata": {},
   "outputs": [
    {
     "name": "stdout",
     "output_type": "stream",
     "text": [
      "This is the best day to sing, sing and joy\n"
     ]
    }
   ],
   "source": [
    "word = \"This is the best day to dance, dance and joy\"\n",
    "\n",
    "def word_replacement():\n",
    "    word_to_be_replaced = input(\"Which word would you like replaced?: \\n\")\n",
    "    word_replacement = input(\"By what?: \\n\")\n",
    "    print(word.replace(word_to_be_replaced, word_replacement))\n",
    "word_replacement()"
   ]
  }
 ],
 "metadata": {
  "kernelspec": {
   "display_name": "base",
   "language": "python",
   "name": "python3"
  },
  "language_info": {
   "codemirror_mode": {
    "name": "ipython",
    "version": 3
   },
   "file_extension": ".py",
   "mimetype": "text/x-python",
   "name": "python",
   "nbconvert_exporter": "python",
   "pygments_lexer": "ipython3",
   "version": "3.12.3"
  }
 },
 "nbformat": 4,
 "nbformat_minor": 2
}
