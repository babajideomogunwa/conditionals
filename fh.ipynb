{
 "cells": [
  {
   "cell_type": "code",
   "execution_count": 1,
   "metadata": {},
   "outputs": [
    {
     "name": "stdout",
     "output_type": "stream",
     "text": [
      "Alcatraz\n",
      "Golden Gate Bridge\n",
      "Golden Gate Park\n",
      "The Exploratorium\n",
      "Pier 39\n"
     ]
    }
   ],
   "source": [
    "fh = open('thingstodo.txt')\n",
    "\n",
    "for line in fh:\n",
    "    print(line.rstrip())\n",
    "fh.close()"
   ]
  },
  {
   "cell_type": "code",
   "execution_count": 3,
   "metadata": {},
   "outputs": [
    {
     "name": "stdout",
     "output_type": "stream",
     "text": [
      "Alcatraz\n",
      "Golden Gate Bridge\n",
      "Golden Gate Park\n",
      "The Exploratorium\n",
      "Pier 39\n",
      "<class 'str'>\n"
     ]
    }
   ],
   "source": [
    "fh = open('thingstodo.txt')\n",
    "contents = fh.read()\n",
    "fh.close()\n",
    "\n",
    "print(contents)\n",
    "print(type(contents))\n"
   ]
  },
  {
   "cell_type": "code",
   "execution_count": 4,
   "metadata": {},
   "outputs": [
    {
     "name": "stdout",
     "output_type": "stream",
     "text": [
      "['Alcatraz\\n', 'Golden Gate Bridge\\n', 'Golden Gate Park\\n', 'The Exploratorium\\n', 'Pier 39']\n",
      "<class 'list'>\n"
     ]
    }
   ],
   "source": [
    "fh = open('thingstodo.txt')\n",
    "lines = fh.readlines()\n",
    "fh.close()\n",
    "\n",
    "print(lines)\n",
    "print(type(lines))"
   ]
  },
  {
   "cell_type": "code",
   "execution_count": 5,
   "metadata": {},
   "outputs": [
    {
     "name": "stdout",
     "output_type": "stream",
     "text": [
      "Alcatraz\n",
      "Golden Gate Bridge\n",
      "Golden Gate Park\n",
      "The Exploratorium\n",
      "Pier 39\n"
     ]
    }
   ],
   "source": [
    "with open('thingstodo.txt') as fh:\n",
    "    for line in fh:\n",
    "        print(line.rstrip())"
   ]
  },
  {
   "cell_type": "code",
   "execution_count": 7,
   "metadata": {},
   "outputs": [
    {
     "name": "stdout",
     "output_type": "stream",
     "text": [
      "['Alcatraz\\n']\n",
      "['Golden Gate Bridge\\n']\n",
      "['Golden Gate Park\\n']\n",
      "['The Exploratorium\\n']\n",
      "['Pier 39']\n"
     ]
    }
   ],
   "source": [
    "with open('thingstodo.txt') as fh:\n",
    "    for line in fh:\n",
    "        print(line.rsplit('\\t'))"
   ]
  },
  {
   "cell_type": "code",
   "execution_count": null,
   "metadata": {},
   "outputs": [],
   "source": [
    "# if file was a csv, you can use both split and strip on it\n",
    "# with open('thingstodo.csv') as fh:\n",
    "#    for line in fh:\n",
    "#       print(line.rsplit(',').rstrip())"
   ]
  },
  {
   "cell_type": "code",
   "execution_count": 17,
   "metadata": {},
   "outputs": [
    {
     "name": "stdout",
     "output_type": "stream",
     "text": [
      "Golden Gate Bridge\n",
      "\n",
      "Golden Gate Park\n",
      "\n"
     ]
    }
   ],
   "source": [
    "fh = open('thingstodo.txt')\n",
    "for line in fh:\n",
    "    if line.startswith('Golden'):\n",
    "        print(line)\n",
    "fh.close()"
   ]
  },
  {
   "cell_type": "code",
   "execution_count": 22,
   "metadata": {},
   "outputs": [
    {
     "name": "stdout",
     "output_type": "stream",
     "text": [
      "Pier 39\n"
     ]
    }
   ],
   "source": [
    "with open('thingstodo.txt') as fh:\n",
    "    for line in fh:\n",
    "        if line.endswith('39'):\n",
    "            print(line.rstrip())"
   ]
  }
 ],
 "metadata": {
  "kernelspec": {
   "display_name": "base",
   "language": "python",
   "name": "python3"
  },
  "language_info": {
   "codemirror_mode": {
    "name": "ipython",
    "version": 3
   },
   "file_extension": ".py",
   "mimetype": "text/x-python",
   "name": "python",
   "nbconvert_exporter": "python",
   "pygments_lexer": "ipython3",
   "version": "3.12.3"
  }
 },
 "nbformat": 4,
 "nbformat_minor": 2
}
